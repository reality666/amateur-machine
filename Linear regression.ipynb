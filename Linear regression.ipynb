{
 "cells": [
  {
   "cell_type": "markdown",
   "metadata": {},
   "source": [
    "# Linear regression"
   ]
  },
  {
   "cell_type": "markdown",
   "metadata": {},
   "source": [
    "Linear regression is one the simplest yet most powerful machine learning algorithm that ever exists. It is the building blocks for other more advanced algorithms like SVM. The common misconception about linear regression is that it needs to be linear or a straight line. Yet that is incorrect as linear regression can be used to solve non-linear problems too. The 'linear' characteristic here indicates the addiction or weighted sum of the input features. We can engineered the features like applying polynomial transformation to handle a curve and the features serve as constant. \n",
    "\n",
    "As all machine learning algorithm, we start with the definition of the problem.\n",
    "Vectorized form\n",
    "y_pred = theta.T * x\n",
    "\n",
    "Refer to https://towardsdatascience.com/vectorization-implementation-in-machine-learning-ca652920c55d\n",
    "A good article that explains vectorization\n",
    "\n",
    "Next we need an objective or cost function.\n",
    "We will use MSE for linear regression. Our goal is to min MSE.\n",
    "MSE is a convex and differentiable equation.\n",
    "\n",
    "So the question now is how do we learn theta? Which theta will produce the optimal fit?\n",
    "\n",
    "One of the solution is via the closed-form solution or the mathematical equation that gives the result directly.\n",
    "The minima exists for MSE because it is convex. We can get a neat equation that can solves the problem directly.\n",
    "(refer to the link below)\n",
    "https://eli.thegreenplace.net/2014/derivation-of-the-normal-equation-for-linear-regression/"
   ]
  },
  {
   "cell_type": "code",
   "execution_count": 3,
   "metadata": {
    "collapsed": true
   },
   "outputs": [],
   "source": [
    "#Normal equation\n",
    "import numpy as np\n",
    "\n",
    "#definining x, 100 lines, single column\n",
    "#Create an array of the given shape and populate it with random samples from a uniform distribution over [0, 1)\n",
    "x = 3*np.random.rand(100,1)\n",
    "\n",
    "#This is our solution, 5 is the intercept and 4 is the slope or gradient aka weighted feature\n",
    "#randn will return random samples from a normal distribution, in this example, it represents noise of the data\n",
    "y = 5 + 4*x+np.random.randn(100,1)"
   ]
  },
  {
   "cell_type": "code",
   "execution_count": 27,
   "metadata": {},
   "outputs": [
    {
     "data": {
      "text/plain": [
       "<matplotlib.text.Text at 0x1c5f8197a58>"
      ]
     },
     "execution_count": 27,
     "metadata": {},
     "output_type": "execute_result"
    },
    {
     "data": {
      "image/png": "[encoded data removed]",
      "text/plain": [
       "<matplotlib.figure.Figure at 0x1c5f82566a0>"
      ]
     },
     "metadata": {},
     "output_type": "display_data"
    }
   ],
   "source": [
    "%matplotlib inline\n",
    "import matplotlib.pyplot as plt\n",
    "\n",
    "plt.plot(x, y, 'b.')\n",
    "plt.xlabel('x')\n",
    "plt.ylabel('y')"
   ]
  },
  {
   "cell_type": "code",
   "execution_count": 10,
   "metadata": {},
   "outputs": [
    {
     "data": {
      "text/plain": [
       "array([[ 5.04430337],\n",
       "       [ 3.9234364 ]])"
      ]
     },
     "execution_count": 10,
     "metadata": {},
     "output_type": "execute_result"
    }
   ],
   "source": [
    "#Compute theta with Normal equation\n",
    "\n",
    "#Translates slice objects to concatenation along the second axis.\n",
    "x_b = np.c_[np.ones((100,1)),x] #add x0 = 1 to every row or each instance, intend to learn intercept and gradient in one go\n",
    "theta = np.linalg.inv(x_b.T.dot(x_b)).dot(x_b.T).dot(y)\n",
    "theta"
   ]
  },
  {
   "cell_type": "markdown",
   "metadata": {},
   "source": [
    "So we learn that the intercept is 5.04 and gradient is 3.92. Close enough. Below demo the c_ function."
   ]
  },
  {
   "cell_type": "code",
   "execution_count": 12,
   "metadata": {},
   "outputs": [
    {
     "data": {
      "text/plain": [
       "array([[1, 4],\n",
       "       [2, 5],\n",
       "       [3, 6]])"
      ]
     },
     "execution_count": 12,
     "metadata": {},
     "output_type": "execute_result"
    }
   ],
   "source": [
    "np.c_[np.array([1,2,3]), np.array([4,5,6])]"
   ]
  },
  {
   "cell_type": "code",
   "execution_count": 13,
   "metadata": {},
   "outputs": [
    {
     "data": {
      "text/plain": [
       "array([[ 1.,  1.],\n",
       "       [ 2.,  1.],\n",
       "       [ 3.,  1.]])"
      ]
     },
     "execution_count": 13,
     "metadata": {},
     "output_type": "execute_result"
    }
   ],
   "source": [
    "np.c_[np.array([1,2,3]), np.ones((3,1))]"
   ]
  },
  {
   "cell_type": "code",
   "execution_count": 24,
   "metadata": {},
   "outputs": [
    {
     "data": {
      "text/plain": [
       "array([[  5.04430337],\n",
       "       [ 16.81461257]])"
      ]
     },
     "execution_count": 24,
     "metadata": {},
     "output_type": "execute_result"
    }
   ],
   "source": [
    "#Let's make some prediction with the theta that we derived\n",
    "\n",
    "x_new = np.array([0,3])\n",
    "x_new_b = np.c_[np.ones((2,1)),x_new]\n",
    "y_pred = x_new_b.dot(theta)\n",
    "y_pred"
   ]
  },
  {
   "cell_type": "code",
   "execution_count": 25,
   "metadata": {},
   "outputs": [
    {
     "data": {
      "text/plain": [
       "[<matplotlib.lines.Line2D at 0x1c5f811a940>]"
      ]
     },
     "execution_count": 25,
     "metadata": {},
     "output_type": "execute_result"
    },
    {
     "data": {
      "image/png": "[encoded data removed]",
      "text/plain": [
       "<matplotlib.figure.Figure at 0x1c5f811a160>"
      ]
     },
     "metadata": {},
     "output_type": "display_data"
    }
   ],
   "source": [
    "plt.plot(x_new, y_pred, 'r')\n",
    "plt.plot(x,y, 'b.')"
   ]
  },
  {
   "cell_type": "code",
   "execution_count": 28,
   "metadata": {},
   "outputs": [
    {
     "data": {
      "text/plain": [
       "LinearRegression(copy_X=True, fit_intercept=True, n_jobs=1, normalize=False)"
      ]
     },
     "execution_count": 28,
     "metadata": {},
     "output_type": "execute_result"
    }
   ],
   "source": [
    "#Quite tedious but we can do this in sklearn too\n",
    "from sklearn.linear_model import LinearRegression\n",
    "lin_reg = LinearRegression()\n",
    "lin_reg.fit(x,y)"
   ]
  },
  {
   "cell_type": "code",
   "execution_count": 29,
   "metadata": {},
   "outputs": [
    {
     "data": {
      "text/plain": [
       "(array([ 5.04430337]), array([[ 3.9234364]]))"
      ]
     },
     "execution_count": 29,
     "metadata": {},
     "output_type": "execute_result"
    }
   ],
   "source": [
    "lin_reg.intercept_, lin_reg.coef_"
   ]
  },
  {
   "cell_type": "code",
   "execution_count": 31,
   "metadata": {},
   "outputs": [
    {
     "data": {
      "text/plain": [
       "array([[  5.04430337],\n",
       "       [ 16.81461257]])"
      ]
     },
     "execution_count": 31,
     "metadata": {},
     "output_type": "execute_result"
    }
   ],
   "source": [
    "lin_reg.predict(x_new.reshape(-1,1))"
   ]
  },
  {
   "cell_type": "markdown",
   "metadata": {},
   "source": [
    "Similar to the normal equation solution above.\n",
    "However, normal equation involves inverse of X.T. It is computational expensive and complicated to invert a large matrix. \n",
    "Normal equation gets slow when number of features grow very large (>10,000).\n",
    "\n",
    "Another point to note, for linear regression after we train the model we only need to keep the intercept and coefficients. Training data are not needed anymore. This is a clear distinction between parametric and non parametric models. We will talk more about that in the coming weeks."
   ]
  },
  {
   "cell_type": "markdown",
   "metadata": {},
   "source": [
    "Let's try gradient descent. It is a generic optimization algorithm that works by tweaking parameters iteratively to min a cost function.\n",
    "https://www.kdnuggets.com/2017/04/simple-understand-gradient-descent-algorithm.html\n",
    "https://towardsdatascience.com/understanding-the-mathematics-behind-gradient-descent-dde5dc9be06e\n"
   ]
  },
  {
   "cell_type": "code",
   "execution_count": null,
   "metadata": {
    "collapsed": true
   },
   "outputs": [],
   "source": []
  }
 ],
 "metadata": {
  "kernelspec": {
   "display_name": "Python 3",
   "language": "python",
   "name": "python3"
  },
  "language_info": {
   "codemirror_mode": {
    "name": "ipython",
    "version": 3
   },
   "file_extension": ".py",
   "mimetype": "text/x-python",
   "name": "python",
   "nbconvert_exporter": "python",
   "pygments_lexer": "ipython3",
   "version": "3.6.2"
  }
 },
 "nbformat": 4,
 "nbformat_minor": 2
}
